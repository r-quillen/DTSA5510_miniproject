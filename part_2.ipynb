{
 "cells": [
  {
   "cell_type": "code",
   "execution_count": 1,
   "metadata": {
    "collapsed": true,
    "pycharm": {
     "name": "#%%\n"
    }
   },
   "outputs": [],
   "source": [
    "import numpy as np\n",
    "import pandas as pd\n",
    "from sklearn.decomposition import NMF\n",
    "from wNMF import wNMF\n",
    "from scipy.sparse import coo_matrix\n",
    "from collections import namedtuple\n"
   ]
  },
  {
   "cell_type": "markdown",
   "metadata": {
    "pycharm": {
     "name": "#%% md\n"
    }
   },
   "source": [
    "# Load data\n",
    "Note: class RecSys() is a stripped down version of recommender system from Week 3's programming assignment.  It loads the rating matrix from raw data and calculates RMSE"
   ]
  },
  {
   "cell_type": "code",
   "execution_count": 2,
   "metadata": {
    "pycharm": {
     "name": "#%%\n"
    }
   },
   "outputs": [],
   "source": [
    "MV_users = pd.read_csv('movie_data/users.csv')\n",
    "MV_movies = pd.read_csv('movie_data/movies.csv')\n",
    "train = pd.read_csv('movie_data/train.csv')\n",
    "test = pd.read_csv('movie_data/test.csv')\n",
    "\n",
    "Data = namedtuple('Data', ['users','movies','train','test'])\n",
    "data = Data(MV_users, MV_movies, train, test)"
   ]
  },
  {
   "cell_type": "code",
   "execution_count": 3,
   "metadata": {
    "pycharm": {
     "name": "#%%\n"
    }
   },
   "outputs": [],
   "source": [
    "class RecSys():\n",
    "    def __init__(self,data):\n",
    "        self.data=data\n",
    "        self.allusers = list(self.data.users['uID'])\n",
    "        self.allmovies = list(self.data.movies['mID'])\n",
    "        self.genres = list(self.data.movies.columns.drop(['mID', 'title', 'year']))\n",
    "        self.mid2idx = dict(zip(self.data.movies.mID,list(range(len(self.data.movies)))))\n",
    "        self.uid2idx = dict(zip(self.data.users.uID,list(range(len(self.data.users)))))\n",
    "        self.Mr=self.rating_matrix()\n",
    "        self.Mm=None\n",
    "        self.sim=np.zeros((len(self.allmovies),len(self.allmovies)))\n",
    "\n",
    "    def rating_matrix(self):\n",
    "        \"\"\"\n",
    "        Convert the rating matrix to numpy array of shape (#allusers,#allmovies)\n",
    "        \"\"\"\n",
    "        ind_movie = [self.mid2idx[x] for x in self.data.train.mID]\n",
    "        ind_user = [self.uid2idx[x] for x in self.data.train.uID]\n",
    "        rating_train = list(train.rating)\n",
    "        return np.array(coo_matrix((rating_train, (ind_user, ind_movie)), shape=(len(self.allusers), len(self.allmovies))).toarray())\n",
    "\n",
    "    def rmse(self,yp):\n",
    "        # yp[np.isnan(yp)]=3 #In case there is nan values in prediction, it will impute to 3.\n",
    "        yt=np.array(self.data.test.rating)\n",
    "        return np.sqrt(((yt-yp)**2).mean())"
   ]
  },
  {
   "cell_type": "code",
   "execution_count": 4,
   "metadata": {
    "pycharm": {
     "name": "#%%\n"
    }
   },
   "outputs": [
    {
     "data": {
      "text/plain": "(6040, 3883)"
     },
     "execution_count": 4,
     "metadata": {},
     "output_type": "execute_result"
    }
   ],
   "source": [
    "rs = RecSys(data)\n",
    "rs.Mr.shape"
   ]
  },
  {
   "cell_type": "markdown",
   "metadata": {
    "pycharm": {
     "name": "#%% md\n"
    }
   },
   "source": [
    "---\n",
    "# Section 1\n",
    "\n",
    "We can use Non-negative Matrix Factorization to impute missing values in the ratings matrix. The simplest method is to run NMF to factor the ratings matrix $X$ into $W H$, then multiply $W H$ to recover the transformed ratings matrix $X'$.  The entries of $X'$ represent predicted ratings.\n",
    "\n",
    "While this method is conceptually simple, it can be effective.  But as you will see, its effectiveness is highly dependent on the details of its implementation."
   ]
  },
  {
   "cell_type": "code",
   "execution_count": 5,
   "metadata": {
    "pycharm": {
     "name": "#%%\n"
    }
   },
   "outputs": [],
   "source": [
    "nmf = NMF(n_components=len(rs.genres),\n",
    "          init=\"nndsvda\",\n",
    "          max_iter=1000,\n",
    "          random_state=1).fit(rs.Mr)"
   ]
  },
  {
   "cell_type": "code",
   "execution_count": 6,
   "metadata": {
    "pycharm": {
     "name": "#%%\n"
    }
   },
   "outputs": [],
   "source": [
    "W = nmf.transform(rs.Mr)\n",
    "H = nmf.components_"
   ]
  },
  {
   "cell_type": "code",
   "execution_count": 7,
   "metadata": {
    "pycharm": {
     "name": "#%%\n"
    }
   },
   "outputs": [],
   "source": [
    "X_from_nmf = nmf.inverse_transform(W)"
   ]
  },
  {
   "cell_type": "code",
   "execution_count": 8,
   "metadata": {
    "pycharm": {
     "name": "#%%\n"
    }
   },
   "outputs": [
    {
     "name": "stdout",
     "output_type": "stream",
     "text": [
      "RSME= 2.8568162524287777\n"
     ]
    }
   ],
   "source": [
    "yp_nmf=[]\n",
    "for i in range(len(rs.data.test)):\n",
    "    x = rs.data.test.iloc[i]\n",
    "    mid = x.mID\n",
    "    uid = x.uID\n",
    "    yp_nmf.append(X_from_nmf[rs.uid2idx[uid],rs.mid2idx[mid]])\n",
    "\n",
    "print(f\"RSME= {rs.rmse(yp_nmf)}\")"
   ]
  },
  {
   "cell_type": "markdown",
   "metadata": {
    "pycharm": {
     "name": "#%% md\n"
    }
   },
   "source": [
    "\n",
    "\n",
    "\n",
    "| Method                              |             RMSE              |\n",
    "|:------------------------------------|:-----------------------------:|\n",
    "| $\\color{red}{\\textbf{NMF}}$         | $\\color{red}{\\textbf{2.857}}$ |\n",
    "| Baseline, $Y_p$=3                   |             1.259             |\n",
    "| Baseline, $Y_p=\\mu_u$               |             1.035             |\n",
    "| Collaborative, cosine               |             1.026             |\n",
    "| Content based, item-item            |             1.012             |\n",
    "| Collaborative, jaccard, $M_r\\geq 1$ |             0.991             |\n",
    "| Collaborative, jaccard, $M_r\\geq 3$ |             0.982             |\n",
    "| Collaborative, jaccard, $M_r$       |             0.951             |"
   ]
  },
  {
   "cell_type": "markdown",
   "metadata": {
    "pycharm": {
     "name": "#%% md\n"
    }
   },
   "source": [
    "---\n",
    "# Section 2\n",
    "\n",
    "The RMSE for our predictions was 2.857, which is absolutely terrible in the context of this problem.  A recommender system which implemented this model would be worthless.\n",
    "\n",
    "The RMSE for this recommender system is the mean error of our predictions.  RMSE is similar to the mean absolute error (MAE), except that larger errors have a greater influence on RMSE (because they are squared).  RMSE cannot be interpreted as literally as MAE, so it's worth comparing this RMSE value to the RMSE for other recommender system models.\n",
    "\n",
    "The movie rating is on a scale of 1-5, so we could get a better RMSE from a model that blindly assigned a 3 for every unknown rating. This hypothetical recommender system would have an RMSE no worse than 2, since the largest possible squared error for a single prediction would be 4 (if the true rating was a 5 or 1).  Hopefully this context makes it clear that the Non-negative matrix factorization yielded *terrible* predictions."
   ]
  },
  {
   "cell_type": "code",
   "execution_count": 9,
   "metadata": {
    "pycharm": {
     "name": "#%%\n"
    }
   },
   "outputs": [
    {
     "name": "stdout",
     "output_type": "stream",
     "text": [
      "sparsity= 0.9701472542053747\n"
     ]
    }
   ],
   "source": [
    "#calculate sparsity of ratings matrix\n",
    "print(f\"sparsity= {1-(np.count_nonzero(rs.Mr)/rs.Mr.size)}\")"
   ]
  },
  {
   "cell_type": "markdown",
   "metadata": {
    "pycharm": {
     "name": "#%% md\n"
    }
   },
   "source": [
    "#### Why did NMF fail so spectacularly?\n",
    "\n",
    "It isn't surprising that the NMF performed so poorly.  97% of the matrix were 0's, which are intended to be placeholders that indicate missing ratings.  However, sklearn's NMF implementation doesn't know to ignore the zeroes.  This NMF implementation is doomed to fail as a recommender system, because it is fundamentally mis-interpreting the missing ratings.\n",
    "\n",
    "We could try using this NMF as a starting point for a collaborative filtering model, but anything built on top of this NMF implementation will suffer.\n",
    "\n",
    "Instead, we can fix the NMF-based recommender system by using an implementation that ignores missing values.  Specifically, we can use a weighted-NMF (wNMF) implementation.\n",
    "\n",
    "WNMF is similar to NMF, except that wNMF assigns weights to matrix entries.  If we assign zero weight to missing ratings, the wNMF will factor the rating matrix in a way that only considers minimizing the error of the known rating values."
   ]
  },
  {
   "cell_type": "code",
   "execution_count": 10,
   "metadata": {
    "pycharm": {
     "name": "#%%\n"
    }
   },
   "outputs": [],
   "source": [
    "#### wNMF implementation"
   ]
  },
  {
   "cell_type": "code",
   "execution_count": 11,
   "metadata": {
    "pycharm": {
     "name": "#%%\n"
    }
   },
   "outputs": [],
   "source": [
    "rs_Mr = rs.Mr.astype(float)\n",
    "weights = (rs.Mr > 0).astype(float)"
   ]
  },
  {
   "cell_type": "markdown",
   "metadata": {
    "pycharm": {
     "name": "#%% md\n"
    }
   },
   "source": [
    "Note: the wNMF takes a long time to run (~1 hour), so I saved the result as `wnmf_15runs.pkl` and disabled the following cell, but you're welcome to uncomment and run it yourself if you'd like"
   ]
  },
  {
   "cell_type": "code",
   "execution_count": 12,
   "metadata": {
    "pycharm": {
     "name": "#%%\n"
    }
   },
   "outputs": [],
   "source": [
    "# wnmf = wNMF(n_components=len(rs.genres),\n",
    "#            max_iter=1000).fit(rs_Mr.T, weights.T, n_run=15)"
   ]
  },
  {
   "cell_type": "code",
   "execution_count": 13,
   "metadata": {
    "pycharm": {
     "name": "#%%\n"
    }
   },
   "outputs": [],
   "source": [
    "import pickle\n",
    "## save wnmf as .pkl\n",
    "# with open('wnmf_15runs.pkl','wb') as f:\n",
    "#     pickle.dump(wnmf,f)\n",
    "\n",
    "# load wnmf from .pkl\n",
    "with open('wnmf_15runs.pkl', 'rb') as f:\n",
    "    wnmf = pickle.load(f)"
   ]
  },
  {
   "cell_type": "code",
   "execution_count": 14,
   "metadata": {
    "pycharm": {
     "name": "#%%\n"
    }
   },
   "outputs": [
    {
     "name": "stdout",
     "output_type": "stream",
     "text": [
      "(18, 3883)\n"
     ]
    }
   ],
   "source": [
    "H_ = wnmf.U.T\n",
    "print(H_.shape)"
   ]
  },
  {
   "cell_type": "code",
   "execution_count": 15,
   "metadata": {
    "pycharm": {
     "name": "#%%\n"
    }
   },
   "outputs": [
    {
     "name": "stdout",
     "output_type": "stream",
     "text": [
      "(6040, 18)\n"
     ]
    }
   ],
   "source": [
    "W_ = wnmf.V.T\n",
    "print(W_.shape)"
   ]
  },
  {
   "cell_type": "code",
   "execution_count": 16,
   "metadata": {
    "pycharm": {
     "name": "#%%\n"
    }
   },
   "outputs": [],
   "source": [
    "# reconstruct the ratings matrix\n",
    "X_from_wnmf = W_ @ H_"
   ]
  },
  {
   "cell_type": "code",
   "execution_count": 17,
   "metadata": {
    "pycharm": {
     "name": "#%%\n"
    }
   },
   "outputs": [
    {
     "name": "stdout",
     "output_type": "stream",
     "text": [
      "RSME= 0.9565517407741765\n"
     ]
    }
   ],
   "source": [
    "# calculate RMSE of the wNMF-based recommender system\n",
    "yp_wnmf = []\n",
    "for i in range(len(rs.data.test)):\n",
    "    x = rs.data.test.iloc[i]\n",
    "    mid=x.mID\n",
    "    uid=x.uID\n",
    "    yp_wnmf.append(\n",
    "        X_from_wnmf[rs.uid2idx[uid],rs.mid2idx[mid]]\n",
    "    )\n",
    "print(f\"RSME= {rs.rmse(yp_wnmf)}\")"
   ]
  },
  {
   "cell_type": "markdown",
   "metadata": {
    "pycharm": {
     "name": "#%% md\n"
    }
   },
   "source": [
    "#### wNMF conclusion\n",
    "\n",
    "The wNMF has an RMSE that is significantly better than sklearn's NMF implementation.  In fact, the wNMF model was close to beating the best collaborative filtering model that we implemented in the Week 3 lab.\n",
    "\n",
    "Not bad!\n",
    "\n",
    "| Method                              | RMSE  |\n",
    "|:------------------------------------|:-----:|\n",
    "| Baseline, $Y_p$=3                   | 1.259 |\n",
    "| Baseline, $Y_p=\\mu_u$               | 1.035 |\n",
    "| Collaborative, cosine               | 1.026 |\n",
    "| Content based, item-item            | 1.012 |\n",
    "| Collaborative, jaccard, $M_r\\geq 1$ | 0.991 |\n",
    "| Collaborative, jaccard, $M_r\\geq 3$ | 0.982 |\n",
    "| $\\color{red}{\\textbf{wNMF}}$        | $\\color{red}{\\textbf{0.957}}$  |\n",
    "| Collaborative, jaccard, $M_r$       | 0.951 |\n",
    "\n",
    "\n"
   ]
  },
  {
   "cell_type": "markdown",
   "metadata": {
    "pycharm": {
     "name": "#%% md\n"
    }
   },
   "source": []
  }
 ],
 "metadata": {
  "kernelspec": {
   "display_name": "Python 3 (ipykernel)",
   "language": "python",
   "name": "python3"
  },
  "language_info": {
   "codemirror_mode": {
    "name": "ipython",
    "version": 3
   },
   "file_extension": ".py",
   "mimetype": "text/x-python",
   "name": "python",
   "nbconvert_exporter": "python",
   "pygments_lexer": "ipython3",
   "version": "3.8.10"
  }
 },
 "nbformat": 4,
 "nbformat_minor": 1
}